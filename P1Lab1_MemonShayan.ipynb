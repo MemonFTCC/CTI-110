{
  "nbformat": 4,
  "nbformat_minor": 0,
  "metadata": {
    "colab": {
      "provenance": []
    },
    "kernelspec": {
      "name": "python3",
      "display_name": "Python 3"
    },
    "language_info": {
      "name": "python"
    }
  },
  "cells": [
    {
      "cell_type": "code",
      "execution_count": 2,
      "metadata": {
        "colab": {
          "base_uri": "https://localhost:8080/"
        },
        "id": "-xFHoEYW9A-N",
        "outputId": "2696c903-90b3-4b1e-f867-2194b802ae90"
      },
      "outputs": [
        {
          "output_type": "stream",
          "name": "stdout",
          "text": [
            "enter your first name:Shayan \n",
            "Enter your first name:Memon\n",
            "hello, Shayan  Memon! Welcome to CTI-110🤣\n"
          ]
        }
      ],
      "source": [
        "# Shayan Memon\n",
        "# 2/5/2025\n",
        "#P1Lab1\n",
        "# Using input and print functions\n",
        "\n",
        "\n",
        "\n",
        "# Get info from user\n",
        "F_name= input(\"enter your first name:\")\n",
        "L_name=input(\"Enter your first name:\")\n",
        "\n",
        "\n",
        "\n",
        "\n",
        "#Display greeting to user\n",
        "print(\"hello,\",F_name, L_name+ \"!\", \"Welcome to CTI-110🤣\")\n",
        "\n"
      ]
    }
  ]
}